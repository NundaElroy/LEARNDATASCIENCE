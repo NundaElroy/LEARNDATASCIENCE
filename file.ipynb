{
 "cells": [
  {
   "cell_type": "code",
   "execution_count": 2,
   "id": "8c9ea271",
   "metadata": {},
   "outputs": [],
   "source": [
    "#reading from a file\n",
    "file = open(\"nunda.txt\",\"r\")"
   ]
  },
  {
   "cell_type": "code",
   "execution_count": 3,
   "id": "a006b1ec",
   "metadata": {},
   "outputs": [
    {
     "name": "stdout",
     "output_type": "stream",
     "text": [
      "SEKYEZA ELROY NUNDA\n"
     ]
    }
   ],
   "source": [
    "content = file.read()\n",
    "print(content)\n",
    "\n",
    "file.close()"
   ]
  },
  {
   "cell_type": "code",
   "execution_count": null,
   "id": "49a8d67e",
   "metadata": {},
   "outputs": [],
   "source": [
    "#wrting to a file \n",
    "with open(\"nunda.txt\",\"w\") as file:\n",
    "    file.write(\"\\nMusus J Patrick\")\n",
    "\n",
    "#wrting to a file \n",
    "with open(\"nunda.txt\",\"a\") as file:\n",
    "    file.write(\"\\nMusus J Patrick\")"
   ]
  }
 ],
 "metadata": {
  "kernelspec": {
   "display_name": "Python 3",
   "language": "python",
   "name": "python3"
  },
  "language_info": {
   "codemirror_mode": {
    "name": "ipython",
    "version": 3
   },
   "file_extension": ".py",
   "mimetype": "text/x-python",
   "name": "python",
   "nbconvert_exporter": "python",
   "pygments_lexer": "ipython3",
   "version": "3.12.3"
  }
 },
 "nbformat": 4,
 "nbformat_minor": 5
}
